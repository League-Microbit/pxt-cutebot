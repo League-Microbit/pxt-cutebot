{
 "cells": [
  {
   "cell_type": "markdown",
   "id": "22f1b1da",
   "metadata": {},
   "source": [
    "# SpeedController Analysis\n",
    "\n",
    "This notebook analyzes the behavior of the SpeedController class by visualizing the wheel speeds as 3D surfaces based on joystick input coordinates."
   ]
  },
  {
   "cell_type": "code",
   "execution_count": 1,
   "id": "17d9e824",
   "metadata": {},
   "outputs": [
    {
     "name": "stderr",
     "output_type": "stream",
     "text": [
      "Matplotlib is building the font cache; this may take a moment.\n"
     ]
    }
   ],
   "source": [
    "# Import required libraries\n",
    "import pandas as pd\n",
    "import numpy as np\n",
    "import matplotlib.pyplot as plt\n",
    "from mpl_toolkits.mplot3d import Axes3D\n",
    "import plotly.graph_objects as go\n",
    "import plotly.express as px\n",
    "from plotly.subplots import make_subplots\n",
    "import subprocess\n",
    "import os"
   ]
  },
  {
   "cell_type": "code",
   "execution_count": 2,
   "id": "6e350f43",
   "metadata": {},
   "outputs": [
    {
     "name": "stdout",
     "output_type": "stream",
     "text": [
      "Running SpeedController test...\n",
      "Testing SpeedController...\n",
      "Generated 441 test points\n",
      "CSV output saved to: /Users/eric/proj/microbit/pxt-cutebot/tests/speed_controller_test.csv\n",
      "Sample data:\n",
      "[\n",
      "  {\n",
      "    x: \u001b[33m0\u001b[39m,\n",
      "    y: \u001b[33m0\u001b[39m,\n",
      "    lw_speed: \u001b[33m-66.66666666666666\u001b[39m,\n",
      "    rw_speed: \u001b[33m-133.33333333333334\u001b[39m,\n",
      "    forward_speed: \u001b[33m-100\u001b[39m,\n",
      "    turn_speed: \u001b[33m33.333333333333336\u001b[39m\n",
      "  },\n",
      "  {\n",
      "    x: \u001b[33m0\u001b[39m,\n",
      "    y: \u001b[33m51\u001b[39m,\n",
      "    lw_speed: \u001b[33m-50.04887585532747\u001b[39m,\n",
      "    rw_speed: \u001b[33m-130.00977517106548\u001b[39m,\n",
      "    forward_speed: \u001b[33m-90.02932551319648\u001b[39m,\n",
      "    turn_speed: \u001b[33m39.98044965786901\u001b[39m\n",
      "  },\n",
      "  {\n",
      "    x: \u001b[33m0\u001b[39m,\n",
      "    y: \u001b[33m102\u001b[39m,\n",
      "    lw_speed: \u001b[33m-33.43108504398828\u001b[39m,\n",
      "    rw_speed: \u001b[33m-126.68621700879766\u001b[39m,\n",
      "    forward_speed: \u001b[33m-80.05865102639297\u001b[39m,\n",
      "    turn_speed: \u001b[33m46.62756598240468\u001b[39m\n",
      "  },\n",
      "  {\n",
      "    x: \u001b[33m0\u001b[39m,\n",
      "    y: \u001b[33m153\u001b[39m,\n",
      "    lw_speed: \u001b[33m-16.813294232649078\u001b[39m,\n",
      "    rw_speed: \u001b[33m-123.36265884652983\u001b[39m,\n",
      "    forward_speed: \u001b[33m-70.08797653958945\u001b[39m,\n",
      "    turn_speed: \u001b[33m53.27468230694037\u001b[39m\n",
      "  },\n",
      "  {\n",
      "    x: \u001b[33m0\u001b[39m,\n",
      "    y: \u001b[33m204\u001b[39m,\n",
      "    lw_speed: \u001b[33m-0.19550342130987985\u001b[39m,\n",
      "    rw_speed: \u001b[33m-120.03910068426197\u001b[39m,\n",
      "    forward_speed: \u001b[33m-60.117302052785924\u001b[39m,\n",
      "    turn_speed: \u001b[33m59.921798631476044\u001b[39m\n",
      "  }\n",
      "]\n",
      "\n"
     ]
    }
   ],
   "source": [
    "# Generate test data by running the Node.js script\n",
    "script_path = 'test-speed-controller.js'\n",
    "csv_path = 'speed_controller_test.csv'\n",
    "\n",
    "print(\"Running SpeedController test...\")\n",
    "result = subprocess.run(['node', script_path], capture_output=True, text=True)\n",
    "print(result.stdout)\n",
    "if result.stderr:\n",
    "    print(\"Errors:\", result.stderr)"
   ]
  },
  {
   "cell_type": "code",
   "execution_count": 3,
   "id": "f4b658dd",
   "metadata": {},
   "outputs": [
    {
     "name": "stdout",
     "output_type": "stream",
     "text": [
      "Loaded 441 data points\n",
      "\n",
      "Data summary:\n",
      "                 x            y    lw_speed    rw_speed  forward_speed  \\\n",
      "count   441.000000   441.000000  441.000000  441.000000     441.000000   \n",
      "mean    510.000000   510.000000   -0.102134   -0.484377      -0.293255   \n",
      "std     309.171069   309.171069   69.859294   69.858435      60.444002   \n",
      "min       0.000000     0.000000 -132.942326 -133.333333    -100.000000   \n",
      "25%     255.000000   255.000000  -61.915317  -62.237382     -50.146628   \n",
      "50%     510.000000   510.000000   -0.168772   -0.564796      -0.293255   \n",
      "75%     765.000000   765.000000   61.593253   61.357186      49.560117   \n",
      "max    1020.000000  1020.000000  133.137830  132.742236      99.413490   \n",
      "\n",
      "       turn_speed  \n",
      "count  441.000000  \n",
      "mean     0.191122  \n",
      "std     35.025471  \n",
      "min    -98.633769  \n",
      "25%    -23.713031  \n",
      "50%      0.146413  \n",
      "75%     24.020476  \n",
      "max     99.804497  \n",
      "\n",
      "First few rows:\n",
      "   x    y   lw_speed    rw_speed  forward_speed  turn_speed\n",
      "0  0    0 -66.666667 -133.333333    -100.000000   33.333333\n",
      "1  0   51 -50.048876 -130.009775     -90.029326   39.980450\n",
      "2  0  102 -33.431085 -126.686217     -80.058651   46.627566\n",
      "3  0  153 -16.813294 -123.362659     -70.087977   53.274682\n",
      "4  0  204  -0.195503 -120.039101     -60.117302   59.921799\n"
     ]
    }
   ],
   "source": [
    "# Load the CSV data\n",
    "df = pd.read_csv(csv_path)\n",
    "print(f\"Loaded {len(df)} data points\")\n",
    "print(\"\\nData summary:\")\n",
    "print(df.describe())\n",
    "print(\"\\nFirst few rows:\")\n",
    "print(df.head())"
   ]
  },
  {
   "cell_type": "code",
   "execution_count": 4,
   "id": "9eb3d347",
   "metadata": {},
   "outputs": [
    {
     "name": "stdout",
     "output_type": "stream",
     "text": [
      "Grid dimensions: 21 x 21\n"
     ]
    }
   ],
   "source": [
    "# Prepare data for 3D plotting\n",
    "# Create pivot tables for each metric\n",
    "x_vals = sorted(df['x'].unique())\n",
    "y_vals = sorted(df['y'].unique())\n",
    "\n",
    "# Create meshgrid\n",
    "X, Y = np.meshgrid(x_vals, y_vals)\n",
    "\n",
    "# Pivot data for each speed component\n",
    "lw_speed_pivot = df.pivot(index='y', columns='x', values='lw_speed')\n",
    "rw_speed_pivot = df.pivot(index='y', columns='x', values='rw_speed')\n",
    "forward_speed_pivot = df.pivot(index='y', columns='x', values='forward_speed')\n",
    "turn_speed_pivot = df.pivot(index='y', columns='x', values='turn_speed')\n",
    "\n",
    "print(f\"Grid dimensions: {len(x_vals)} x {len(y_vals)}\")"
   ]
  },
  {
   "cell_type": "code",
   "execution_count": 5,
   "id": "c6f51f31",
   "metadata": {},
   "outputs": [
    {
     "data": {
      "application/vnd.plotly.v1+json": {
       "config": {
        "plotlyServerURL": "https://plot.ly"
       },
       "data": [
        {
         "colorscale": [
          [
           0,
           "#440154"
          ],
          [
           0.1111111111111111,
           "#482878"
          ],
          [
           0.2222222222222222,
           "#3e4989"
          ],
          [
           0.3333333333333333,
           "#31688e"
          ],
          [
           0.4444444444444444,
           "#26828e"
          ],
          [
           0.5555555555555556,
           "#1f9e89"
          ],
          [
           0.6666666666666666,
           "#35b779"
          ],
          [
           0.7777777777777778,
           "#6ece58"
          ],
          [
           0.8888888888888888,
           "#b5de2b"
          ],
          [
           1,
           "#fde725"
          ]
         ],
         "name": "Left Wheel",
         "scene": "scene",
         "type": "surface",
         "x": [
          0,
          51,
          102,
          153,
          204,
          255,
          306,
          357,
          408,
          459,
          510,
          561,
          612,
          663,
          714,
          765,
          816,
          867,
          918,
          969,
          1020
         ],
         "y": [
          0,
          51,
          102,
          153,
          204,
          255,
          306,
          357,
          408,
          459,
          510,
          561,
          612,
          663,
          714,
          765,
          816,
          867,
          918,
          969,
          1020
         ],
         "z": {
          "bdata": "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",
          "dtype": "f8",
          "shape": "21, 21"
         }
        },
        {
         "colorscale": [
          [
           0,
           "#0d0887"
          ],
          [
           0.1111111111111111,
           "#46039f"
          ],
          [
           0.2222222222222222,
           "#7201a8"
          ],
          [
           0.3333333333333333,
           "#9c179e"
          ],
          [
           0.4444444444444444,
           "#bd3786"
          ],
          [
           0.5555555555555556,
           "#d8576b"
          ],
          [
           0.6666666666666666,
           "#ed7953"
          ],
          [
           0.7777777777777778,
           "#fb9f3a"
          ],
          [
           0.8888888888888888,
           "#fdca26"
          ],
          [
           1,
           "#f0f921"
          ]
         ],
         "name": "Right Wheel",
         "scene": "scene2",
         "type": "surface",
         "x": [
          0,
          51,
          102,
          153,
          204,
          255,
          306,
          357,
          408,
          459,
          510,
          561,
          612,
          663,
          714,
          765,
          816,
          867,
          918,
          969,
          1020
         ],
         "y": [
          0,
          51,
          102,
          153,
          204,
          255,
          306,
          357,
          408,
          459,
          510,
          561,
          612,
          663,
          714,
          765,
          816,
          867,
          918,
          969,
          1020
         ],
         "z": {
          "bdata": "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",
          "dtype": "f8",
          "shape": "21, 21"
         }
        },
        {
         "colorscale": [
          [
           0,
           "rgb(247,251,255)"
          ],
          [
           0.125,
           "rgb(222,235,247)"
          ],
          [
           0.25,
           "rgb(198,219,239)"
          ],
          [
           0.375,
           "rgb(158,202,225)"
          ],
          [
           0.5,
           "rgb(107,174,214)"
          ],
          [
           0.625,
           "rgb(66,146,198)"
          ],
          [
           0.75,
           "rgb(33,113,181)"
          ],
          [
           0.875,
           "rgb(8,81,156)"
          ],
          [
           1,
           "rgb(8,48,107)"
          ]
         ],
         "name": "Forward",
         "scene": "scene3",
         "type": "surface",
         "x": [
          0,
          51,
          102,
          153,
          204,
          255,
          306,
          357,
          408,
          459,
          510,
          561,
          612,
          663,
          714,
          765,
          816,
          867,
          918,
          969,
          1020
         ],
         "y": [
          0,
          51,
          102,
          153,
          204,
          255,
          306,
          357,
          408,
          459,
          510,
          561,
          612,
          663,
          714,
          765,
          816,
          867,
          918,
          969,
          1020
         ],
         "z": {
          "bdata": "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",
          "dtype": "f8",
          "shape": "21, 21"
         }
        },
        {
         "colorscale": [
          [
           0,
           "rgb(103,0,31)"
          ],
          [
           0.1,
           "rgb(178,24,43)"
          ],
          [
           0.2,
           "rgb(214,96,77)"
          ],
          [
           0.3,
           "rgb(244,165,130)"
          ],
          [
           0.4,
           "rgb(253,219,199)"
          ],
          [
           0.5,
           "rgb(247,247,247)"
          ],
          [
           0.6,
           "rgb(209,229,240)"
          ],
          [
           0.7,
           "rgb(146,197,222)"
          ],
          [
           0.8,
           "rgb(67,147,195)"
          ],
          [
           0.9,
           "rgb(33,102,172)"
          ],
          [
           1,
           "rgb(5,48,97)"
          ]
         ],
         "name": "Turn",
         "scene": "scene4",
         "type": "surface",
         "x": [
          0,
          51,
          102,
          153,
          204,
          255,
          306,
          357,
          408,
          459,
          510,
          561,
          612,
          663,
          714,
          765,
          816,
          867,
          918,
          969,
          1020
         ],
         "y": [
          0,
          51,
          102,
          153,
          204,
          255,
          306,
          357,
          408,
          459,
          510,
          561,
          612,
          663,
          714,
          765,
          816,
          867,
          918,
          969,
          1020
         ],
         "z": {
          "bdata": "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",
          "dtype": "f8",
          "shape": "21, 21"
         }
        }
       ],
       "layout": {
        "annotations": [
         {
          "font": {
           "size": 16
          },
          "showarrow": false,
          "text": "Left Wheel Speed",
          "x": 0.225,
          "xanchor": "center",
          "xref": "paper",
          "y": 1,
          "yanchor": "bottom",
          "yref": "paper"
         },
         {
          "font": {
           "size": 16
          },
          "showarrow": false,
          "text": "Right Wheel Speed",
          "x": 0.775,
          "xanchor": "center",
          "xref": "paper",
          "y": 1,
          "yanchor": "bottom",
          "yref": "paper"
         },
         {
          "font": {
           "size": 16
          },
          "showarrow": false,
          "text": "Forward Speed",
          "x": 0.225,
          "xanchor": "center",
          "xref": "paper",
          "y": 0.46,
          "yanchor": "bottom",
          "yref": "paper"
         },
         {
          "font": {
           "size": 16
          },
          "showarrow": false,
          "text": "Turn Speed",
          "x": 0.775,
          "xanchor": "center",
          "xref": "paper",
          "y": 0.46,
          "yanchor": "bottom",
          "yref": "paper"
         }
        ],
        "height": 800,
        "scene": {
         "domain": {
          "x": [
           0,
           0.45
          ],
          "y": [
           0.54,
           1
          ]
         },
         "xaxis": {
          "title": {
           "text": "Joystick X"
          }
         },
         "yaxis": {
          "title": {
           "text": "Joystick Y"
          }
         },
         "zaxis": {
          "title": {
           "text": "Speed"
          }
         }
        },
        "scene2": {
         "domain": {
          "x": [
           0.55,
           1
          ],
          "y": [
           0.54,
           1
          ]
         },
         "xaxis": {
          "title": {
           "text": "Joystick X"
          }
         },
         "yaxis": {
          "title": {
           "text": "Joystick Y"
          }
         },
         "zaxis": {
          "title": {
           "text": "Speed"
          }
         }
        },
        "scene3": {
         "domain": {
          "x": [
           0,
           0.45
          ],
          "y": [
           0,
           0.46
          ]
         },
         "xaxis": {
          "title": {
           "text": "Joystick X"
          }
         },
         "yaxis": {
          "title": {
           "text": "Joystick Y"
          }
         },
         "zaxis": {
          "title": {
           "text": "Speed"
          }
         }
        },
        "scene4": {
         "domain": {
          "x": [
           0.55,
           1
          ],
          "y": [
           0,
           0.46
          ]
         },
         "xaxis": {
          "title": {
           "text": "Joystick X"
          }
         },
         "yaxis": {
          "title": {
           "text": "Joystick Y"
          }
         },
         "zaxis": {
          "title": {
           "text": "Speed"
          }
         }
        },
        "showlegend": false,
        "template": {
         "data": {
          "bar": [
           {
            "error_x": {
             "color": "#2a3f5f"
            },
            "error_y": {
             "color": "#2a3f5f"
            },
            "marker": {
             "line": {
              "color": "#E5ECF6",
              "width": 0.5
             },
             "pattern": {
              "fillmode": "overlay",
              "size": 10,
              "solidity": 0.2
             }
            },
            "type": "bar"
           }
          ],
          "barpolar": [
           {
            "marker": {
             "line": {
              "color": "#E5ECF6",
              "width": 0.5
             },
             "pattern": {
              "fillmode": "overlay",
              "size": 10,
              "solidity": 0.2
             }
            },
            "type": "barpolar"
           }
          ],
          "carpet": [
           {
            "aaxis": {
             "endlinecolor": "#2a3f5f",
             "gridcolor": "white",
             "linecolor": "white",
             "minorgridcolor": "white",
             "startlinecolor": "#2a3f5f"
            },
            "baxis": {
             "endlinecolor": "#2a3f5f",
             "gridcolor": "white",
             "linecolor": "white",
             "minorgridcolor": "white",
             "startlinecolor": "#2a3f5f"
            },
            "type": "carpet"
           }
          ],
          "choropleth": [
           {
            "colorbar": {
             "outlinewidth": 0,
             "ticks": ""
            },
            "type": "choropleth"
           }
          ],
          "contour": [
           {
            "colorbar": {
             "outlinewidth": 0,
             "ticks": ""
            },
            "colorscale": [
             [
              0,
              "#0d0887"
             ],
             [
              0.1111111111111111,
              "#46039f"
             ],
             [
              0.2222222222222222,
              "#7201a8"
             ],
             [
              0.3333333333333333,
              "#9c179e"
             ],
             [
              0.4444444444444444,
              "#bd3786"
             ],
             [
              0.5555555555555556,
              "#d8576b"
             ],
             [
              0.6666666666666666,
              "#ed7953"
             ],
             [
              0.7777777777777778,
              "#fb9f3a"
             ],
             [
              0.8888888888888888,
              "#fdca26"
             ],
             [
              1,
              "#f0f921"
             ]
            ],
            "type": "contour"
           }
          ],
          "contourcarpet": [
           {
            "colorbar": {
             "outlinewidth": 0,
             "ticks": ""
            },
            "type": "contourcarpet"
           }
          ],
          "heatmap": [
           {
            "colorbar": {
             "outlinewidth": 0,
             "ticks": ""
            },
            "colorscale": [
             [
              0,
              "#0d0887"
             ],
             [
              0.1111111111111111,
              "#46039f"
             ],
             [
              0.2222222222222222,
              "#7201a8"
             ],
             [
              0.3333333333333333,
              "#9c179e"
             ],
             [
              0.4444444444444444,
              "#bd3786"
             ],
             [
              0.5555555555555556,
              "#d8576b"
             ],
             [
              0.6666666666666666,
              "#ed7953"
             ],
             [
              0.7777777777777778,
              "#fb9f3a"
             ],
             [
              0.8888888888888888,
              "#fdca26"
             ],
             [
              1,
              "#f0f921"
             ]
            ],
            "type": "heatmap"
           }
          ],
          "histogram": [
           {
            "marker": {
             "pattern": {
              "fillmode": "overlay",
              "size": 10,
              "solidity": 0.2
             }
            },
            "type": "histogram"
           }
          ],
          "histogram2d": [
           {
            "colorbar": {
             "outlinewidth": 0,
             "ticks": ""
            },
            "colorscale": [
             [
              0,
              "#0d0887"
             ],
             [
              0.1111111111111111,
              "#46039f"
             ],
             [
              0.2222222222222222,
              "#7201a8"
             ],
             [
              0.3333333333333333,
              "#9c179e"
             ],
             [
              0.4444444444444444,
              "#bd3786"
             ],
             [
              0.5555555555555556,
              "#d8576b"
             ],
             [
              0.6666666666666666,
              "#ed7953"
             ],
             [
              0.7777777777777778,
              "#fb9f3a"
             ],
             [
              0.8888888888888888,
              "#fdca26"
             ],
             [
              1,
              "#f0f921"
             ]
            ],
            "type": "histogram2d"
           }
          ],
          "histogram2dcontour": [
           {
            "colorbar": {
             "outlinewidth": 0,
             "ticks": ""
            },
            "colorscale": [
             [
              0,
              "#0d0887"
             ],
             [
              0.1111111111111111,
              "#46039f"
             ],
             [
              0.2222222222222222,
              "#7201a8"
             ],
             [
              0.3333333333333333,
              "#9c179e"
             ],
             [
              0.4444444444444444,
              "#bd3786"
             ],
             [
              0.5555555555555556,
              "#d8576b"
             ],
             [
              0.6666666666666666,
              "#ed7953"
             ],
             [
              0.7777777777777778,
              "#fb9f3a"
             ],
             [
              0.8888888888888888,
              "#fdca26"
             ],
             [
              1,
              "#f0f921"
             ]
            ],
            "type": "histogram2dcontour"
           }
          ],
          "mesh3d": [
           {
            "colorbar": {
             "outlinewidth": 0,
             "ticks": ""
            },
            "type": "mesh3d"
           }
          ],
          "parcoords": [
           {
            "line": {
             "colorbar": {
              "outlinewidth": 0,
              "ticks": ""
             }
            },
            "type": "parcoords"
           }
          ],
          "pie": [
           {
            "automargin": true,
            "type": "pie"
           }
          ],
          "scatter": [
           {
            "fillpattern": {
             "fillmode": "overlay",
             "size": 10,
             "solidity": 0.2
            },
            "type": "scatter"
           }
          ],
          "scatter3d": [
           {
            "line": {
             "colorbar": {
              "outlinewidth": 0,
              "ticks": ""
             }
            },
            "marker": {
             "colorbar": {
              "outlinewidth": 0,
              "ticks": ""
             }
            },
            "type": "scatter3d"
           }
          ],
          "scattercarpet": [
           {
            "marker": {
             "colorbar": {
              "outlinewidth": 0,
              "ticks": ""
             }
            },
            "type": "scattercarpet"
           }
          ],
          "scattergeo": [
           {
            "marker": {
             "colorbar": {
              "outlinewidth": 0,
              "ticks": ""
             }
            },
            "type": "scattergeo"
           }
          ],
          "scattergl": [
           {
            "marker": {
             "colorbar": {
              "outlinewidth": 0,
              "ticks": ""
             }
            },
            "type": "scattergl"
           }
          ],
          "scattermap": [
           {
            "marker": {
             "colorbar": {
              "outlinewidth": 0,
              "ticks": ""
             }
            },
            "type": "scattermap"
           }
          ],
          "scattermapbox": [
           {
            "marker": {
             "colorbar": {
              "outlinewidth": 0,
              "ticks": ""
             }
            },
            "type": "scattermapbox"
           }
          ],
          "scatterpolar": [
           {
            "marker": {
             "colorbar": {
              "outlinewidth": 0,
              "ticks": ""
             }
            },
            "type": "scatterpolar"
           }
          ],
          "scatterpolargl": [
           {
            "marker": {
             "colorbar": {
              "outlinewidth": 0,
              "ticks": ""
             }
            },
            "type": "scatterpolargl"
           }
          ],
          "scatterternary": [
           {
            "marker": {
             "colorbar": {
              "outlinewidth": 0,
              "ticks": ""
             }
            },
            "type": "scatterternary"
           }
          ],
          "surface": [
           {
            "colorbar": {
             "outlinewidth": 0,
             "ticks": ""
            },
            "colorscale": [
             [
              0,
              "#0d0887"
             ],
             [
              0.1111111111111111,
              "#46039f"
             ],
             [
              0.2222222222222222,
              "#7201a8"
             ],
             [
              0.3333333333333333,
              "#9c179e"
             ],
             [
              0.4444444444444444,
              "#bd3786"
             ],
             [
              0.5555555555555556,
              "#d8576b"
             ],
             [
              0.6666666666666666,
              "#ed7953"
             ],
             [
              0.7777777777777778,
              "#fb9f3a"
             ],
             [
              0.8888888888888888,
              "#fdca26"
             ],
             [
              1,
              "#f0f921"
             ]
            ],
            "type": "surface"
           }
          ],
          "table": [
           {
            "cells": {
             "fill": {
              "color": "#EBF0F8"
             },
             "line": {
              "color": "white"
             }
            },
            "header": {
             "fill": {
              "color": "#C8D4E3"
             },
             "line": {
              "color": "white"
             }
            },
            "type": "table"
           }
          ]
         },
         "layout": {
          "annotationdefaults": {
           "arrowcolor": "#2a3f5f",
           "arrowhead": 0,
           "arrowwidth": 1
          },
          "autotypenumbers": "strict",
          "coloraxis": {
           "colorbar": {
            "outlinewidth": 0,
            "ticks": ""
           }
          },
          "colorscale": {
           "diverging": [
            [
             0,
             "#8e0152"
            ],
            [
             0.1,
             "#c51b7d"
            ],
            [
             0.2,
             "#de77ae"
            ],
            [
             0.3,
             "#f1b6da"
            ],
            [
             0.4,
             "#fde0ef"
            ],
            [
             0.5,
             "#f7f7f7"
            ],
            [
             0.6,
             "#e6f5d0"
            ],
            [
             0.7,
             "#b8e186"
            ],
            [
             0.8,
             "#7fbc41"
            ],
            [
             0.9,
             "#4d9221"
            ],
            [
             1,
             "#276419"
            ]
           ],
           "sequential": [
            [
             0,
             "#0d0887"
            ],
            [
             0.1111111111111111,
             "#46039f"
            ],
            [
             0.2222222222222222,
             "#7201a8"
            ],
            [
             0.3333333333333333,
             "#9c179e"
            ],
            [
             0.4444444444444444,
             "#bd3786"
            ],
            [
             0.5555555555555556,
             "#d8576b"
            ],
            [
             0.6666666666666666,
             "#ed7953"
            ],
            [
             0.7777777777777778,
             "#fb9f3a"
            ],
            [
             0.8888888888888888,
             "#fdca26"
            ],
            [
             1,
             "#f0f921"
            ]
           ],
           "sequentialminus": [
            [
             0,
             "#0d0887"
            ],
            [
             0.1111111111111111,
             "#46039f"
            ],
            [
             0.2222222222222222,
             "#7201a8"
            ],
            [
             0.3333333333333333,
             "#9c179e"
            ],
            [
             0.4444444444444444,
             "#bd3786"
            ],
            [
             0.5555555555555556,
             "#d8576b"
            ],
            [
             0.6666666666666666,
             "#ed7953"
            ],
            [
             0.7777777777777778,
             "#fb9f3a"
            ],
            [
             0.8888888888888888,
             "#fdca26"
            ],
            [
             1,
             "#f0f921"
            ]
           ]
          },
          "colorway": [
           "#636efa",
           "#EF553B",
           "#00cc96",
           "#ab63fa",
           "#FFA15A",
           "#19d3f3",
           "#FF6692",
           "#B6E880",
           "#FF97FF",
           "#FECB52"
          ],
          "font": {
           "color": "#2a3f5f"
          },
          "geo": {
           "bgcolor": "white",
           "lakecolor": "white",
           "landcolor": "#E5ECF6",
           "showlakes": true,
           "showland": true,
           "subunitcolor": "white"
          },
          "hoverlabel": {
           "align": "left"
          },
          "hovermode": "closest",
          "mapbox": {
           "style": "light"
          },
          "paper_bgcolor": "white",
          "plot_bgcolor": "#E5ECF6",
          "polar": {
           "angularaxis": {
            "gridcolor": "white",
            "linecolor": "white",
            "ticks": ""
           },
           "bgcolor": "#E5ECF6",
           "radialaxis": {
            "gridcolor": "white",
            "linecolor": "white",
            "ticks": ""
           }
          },
          "scene": {
           "xaxis": {
            "backgroundcolor": "#E5ECF6",
            "gridcolor": "white",
            "gridwidth": 2,
            "linecolor": "white",
            "showbackground": true,
            "ticks": "",
            "zerolinecolor": "white"
           },
           "yaxis": {
            "backgroundcolor": "#E5ECF6",
            "gridcolor": "white",
            "gridwidth": 2,
            "linecolor": "white",
            "showbackground": true,
            "ticks": "",
            "zerolinecolor": "white"
           },
           "zaxis": {
            "backgroundcolor": "#E5ECF6",
            "gridcolor": "white",
            "gridwidth": 2,
            "linecolor": "white",
            "showbackground": true,
            "ticks": "",
            "zerolinecolor": "white"
           }
          },
          "shapedefaults": {
           "line": {
            "color": "#2a3f5f"
           }
          },
          "ternary": {
           "aaxis": {
            "gridcolor": "white",
            "linecolor": "white",
            "ticks": ""
           },
           "baxis": {
            "gridcolor": "white",
            "linecolor": "white",
            "ticks": ""
           },
           "bgcolor": "#E5ECF6",
           "caxis": {
            "gridcolor": "white",
            "linecolor": "white",
            "ticks": ""
           }
          },
          "title": {
           "x": 0.05
          },
          "xaxis": {
           "automargin": true,
           "gridcolor": "white",
           "linecolor": "white",
           "ticks": "",
           "title": {
            "standoff": 15
           },
           "zerolinecolor": "white",
           "zerolinewidth": 2
          },
          "yaxis": {
           "automargin": true,
           "gridcolor": "white",
           "linecolor": "white",
           "ticks": "",
           "title": {
            "standoff": 15
           },
           "zerolinecolor": "white",
           "zerolinewidth": 2
          }
         }
        },
        "title": {
         "text": "SpeedController Behavior Analysis"
        }
       }
      }
     },
     "metadata": {},
     "output_type": "display_data"
    }
   ],
   "source": [
    "# Create 3D surface plots using Plotly\n",
    "fig = make_subplots(\n",
    "    rows=2, cols=2,\n",
    "    specs=[[{'type': 'surface'}, {'type': 'surface'}],\n",
    "           [{'type': 'surface'}, {'type': 'surface'}]],\n",
    "    subplot_titles=('Left Wheel Speed', 'Right Wheel Speed', 'Forward Speed', 'Turn Speed'),\n",
    "    vertical_spacing=0.08\n",
    ")\n",
    "\n",
    "# Left wheel speed surface\n",
    "fig.add_trace(\n",
    "    go.Surface(z=lw_speed_pivot.values, x=x_vals, y=y_vals, colorscale='Viridis', name='Left Wheel'),\n",
    "    row=1, col=1\n",
    ")\n",
    "\n",
    "# Right wheel speed surface\n",
    "fig.add_trace(\n",
    "    go.Surface(z=rw_speed_pivot.values, x=x_vals, y=y_vals, colorscale='Plasma', name='Right Wheel'),\n",
    "    row=1, col=2\n",
    ")\n",
    "\n",
    "# Forward speed surface\n",
    "fig.add_trace(\n",
    "    go.Surface(z=forward_speed_pivot.values, x=x_vals, y=y_vals, colorscale='Blues', name='Forward'),\n",
    "    row=2, col=1\n",
    ")\n",
    "\n",
    "# Turn speed surface\n",
    "fig.add_trace(\n",
    "    go.Surface(z=turn_speed_pivot.values, x=x_vals, y=y_vals, colorscale='RdBu', name='Turn'),\n",
    "    row=2, col=2\n",
    ")\n",
    "\n",
    "fig.update_layout(\n",
    "    title='SpeedController Behavior Analysis',\n",
    "    height=800,\n",
    "    showlegend=False\n",
    ")\n",
    "\n",
    "# Update axis labels\n",
    "for i in range(1, 3):\n",
    "    for j in range(1, 3):\n",
    "        fig.update_scenes(\n",
    "            xaxis_title='Joystick X',\n",
    "            yaxis_title='Joystick Y',\n",
    "            zaxis_title='Speed',\n",
    "            row=i, col=j\n",
    "        )\n",
    "\n",
    "fig.show()"
   ]
  },
  {
   "cell_type": "code",
   "execution_count": 6,
   "id": "6cfa5056",
   "metadata": {},
   "outputs": [
    {
     "data": {
      "application/vnd.plotly.v1+json": {
       "config": {
        "plotlyServerURL": "https://plot.ly"
       },
       "data": [
        {
         "colorscale": [
          [
           0,
           "#440154"
          ],
          [
           0.1111111111111111,
           "#482878"
          ],
          [
           0.2222222222222222,
           "#3e4989"
          ],
          [
           0.3333333333333333,
           "#31688e"
          ],
          [
           0.4444444444444444,
           "#26828e"
          ],
          [
           0.5555555555555556,
           "#1f9e89"
          ],
          [
           0.6666666666666666,
           "#35b779"
          ],
          [
           0.7777777777777778,
           "#6ece58"
          ],
          [
           0.8888888888888888,
           "#b5de2b"
          ],
          [
           1,
           "#fde725"
          ]
         ],
         "type": "surface",
         "x": [
          0,
          51,
          102,
          153,
          204,
          255,
          306,
          357,
          408,
          459,
          510,
          561,
          612,
          663,
          714,
          765,
          816,
          867,
          918,
          969,
          1020
         ],
         "y": [
          0,
          51,
          102,
          153,
          204,
          255,
          306,
          357,
          408,
          459,
          510,
          561,
          612,
          663,
          714,
          765,
          816,
          867,
          918,
          969,
          1020
         ],
         "z": {
          "bdata": "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",
          "dtype": "f8",
          "shape": "21, 21"
         }
        }
       ],
       "layout": {
        "height": 600,
        "scene": {
         "xaxis": {
          "title": {
           "text": "Joystick X (0-1023)"
          }
         },
         "yaxis": {
          "title": {
           "text": "Joystick Y (0-1023)"
          }
         },
         "zaxis": {
          "title": {
           "text": "Left Wheel Speed (-100 to 100)"
          }
         }
        },
        "template": {
         "data": {
          "bar": [
           {
            "error_x": {
             "color": "#2a3f5f"
            },
            "error_y": {
             "color": "#2a3f5f"
            },
            "marker": {
             "line": {
              "color": "#E5ECF6",
              "width": 0.5
             },
             "pattern": {
              "fillmode": "overlay",
              "size": 10,
              "solidity": 0.2
             }
            },
            "type": "bar"
           }
          ],
          "barpolar": [
           {
            "marker": {
             "line": {
              "color": "#E5ECF6",
              "width": 0.5
             },
             "pattern": {
              "fillmode": "overlay",
              "size": 10,
              "solidity": 0.2
             }
            },
            "type": "barpolar"
           }
          ],
          "carpet": [
           {
            "aaxis": {
             "endlinecolor": "#2a3f5f",
             "gridcolor": "white",
             "linecolor": "white",
             "minorgridcolor": "white",
             "startlinecolor": "#2a3f5f"
            },
            "baxis": {
             "endlinecolor": "#2a3f5f",
             "gridcolor": "white",
             "linecolor": "white",
             "minorgridcolor": "white",
             "startlinecolor": "#2a3f5f"
            },
            "type": "carpet"
           }
          ],
          "choropleth": [
           {
            "colorbar": {
             "outlinewidth": 0,
             "ticks": ""
            },
            "type": "choropleth"
           }
          ],
          "contour": [
           {
            "colorbar": {
             "outlinewidth": 0,
             "ticks": ""
            },
            "colorscale": [
             [
              0,
              "#0d0887"
             ],
             [
              0.1111111111111111,
              "#46039f"
             ],
             [
              0.2222222222222222,
              "#7201a8"
             ],
             [
              0.3333333333333333,
              "#9c179e"
             ],
             [
              0.4444444444444444,
              "#bd3786"
             ],
             [
              0.5555555555555556,
              "#d8576b"
             ],
             [
              0.6666666666666666,
              "#ed7953"
             ],
             [
              0.7777777777777778,
              "#fb9f3a"
             ],
             [
              0.8888888888888888,
              "#fdca26"
             ],
             [
              1,
              "#f0f921"
             ]
            ],
            "type": "contour"
           }
          ],
          "contourcarpet": [
           {
            "colorbar": {
             "outlinewidth": 0,
             "ticks": ""
            },
            "type": "contourcarpet"
           }
          ],
          "heatmap": [
           {
            "colorbar": {
             "outlinewidth": 0,
             "ticks": ""
            },
            "colorscale": [
             [
              0,
              "#0d0887"
             ],
             [
              0.1111111111111111,
              "#46039f"
             ],
             [
              0.2222222222222222,
              "#7201a8"
             ],
             [
              0.3333333333333333,
              "#9c179e"
             ],
             [
              0.4444444444444444,
              "#bd3786"
             ],
             [
              0.5555555555555556,
              "#d8576b"
             ],
             [
              0.6666666666666666,
              "#ed7953"
             ],
             [
              0.7777777777777778,
              "#fb9f3a"
             ],
             [
              0.8888888888888888,
              "#fdca26"
             ],
             [
              1,
              "#f0f921"
             ]
            ],
            "type": "heatmap"
           }
          ],
          "histogram": [
           {
            "marker": {
             "pattern": {
              "fillmode": "overlay",
              "size": 10,
              "solidity": 0.2
             }
            },
            "type": "histogram"
           }
          ],
          "histogram2d": [
           {
            "colorbar": {
             "outlinewidth": 0,
             "ticks": ""
            },
            "colorscale": [
             [
              0,
              "#0d0887"
             ],
             [
              0.1111111111111111,
              "#46039f"
             ],
             [
              0.2222222222222222,
              "#7201a8"
             ],
             [
              0.3333333333333333,
              "#9c179e"
             ],
             [
              0.4444444444444444,
              "#bd3786"
             ],
             [
              0.5555555555555556,
              "#d8576b"
             ],
             [
              0.6666666666666666,
              "#ed7953"
             ],
             [
              0.7777777777777778,
              "#fb9f3a"
             ],
             [
              0.8888888888888888,
              "#fdca26"
             ],
             [
              1,
              "#f0f921"
             ]
            ],
            "type": "histogram2d"
           }
          ],
          "histogram2dcontour": [
           {
            "colorbar": {
             "outlinewidth": 0,
             "ticks": ""
            },
            "colorscale": [
             [
              0,
              "#0d0887"
             ],
             [
              0.1111111111111111,
              "#46039f"
             ],
             [
              0.2222222222222222,
              "#7201a8"
             ],
             [
              0.3333333333333333,
              "#9c179e"
             ],
             [
              0.4444444444444444,
              "#bd3786"
             ],
             [
              0.5555555555555556,
              "#d8576b"
             ],
             [
              0.6666666666666666,
              "#ed7953"
             ],
             [
              0.7777777777777778,
              "#fb9f3a"
             ],
             [
              0.8888888888888888,
              "#fdca26"
             ],
             [
              1,
              "#f0f921"
             ]
            ],
            "type": "histogram2dcontour"
           }
          ],
          "mesh3d": [
           {
            "colorbar": {
             "outlinewidth": 0,
             "ticks": ""
            },
            "type": "mesh3d"
           }
          ],
          "parcoords": [
           {
            "line": {
             "colorbar": {
              "outlinewidth": 0,
              "ticks": ""
             }
            },
            "type": "parcoords"
           }
          ],
          "pie": [
           {
            "automargin": true,
            "type": "pie"
           }
          ],
          "scatter": [
           {
            "fillpattern": {
             "fillmode": "overlay",
             "size": 10,
             "solidity": 0.2
            },
            "type": "scatter"
           }
          ],
          "scatter3d": [
           {
            "line": {
             "colorbar": {
              "outlinewidth": 0,
              "ticks": ""
             }
            },
            "marker": {
             "colorbar": {
              "outlinewidth": 0,
              "ticks": ""
             }
            },
            "type": "scatter3d"
           }
          ],
          "scattercarpet": [
           {
            "marker": {
             "colorbar": {
              "outlinewidth": 0,
              "ticks": ""
             }
            },
            "type": "scattercarpet"
           }
          ],
          "scattergeo": [
           {
            "marker": {
             "colorbar": {
              "outlinewidth": 0,
              "ticks": ""
             }
            },
            "type": "scattergeo"
           }
          ],
          "scattergl": [
           {
            "marker": {
             "colorbar": {
              "outlinewidth": 0,
              "ticks": ""
             }
            },
            "type": "scattergl"
           }
          ],
          "scattermap": [
           {
            "marker": {
             "colorbar": {
              "outlinewidth": 0,
              "ticks": ""
             }
            },
            "type": "scattermap"
           }
          ],
          "scattermapbox": [
           {
            "marker": {
             "colorbar": {
              "outlinewidth": 0,
              "ticks": ""
             }
            },
            "type": "scattermapbox"
           }
          ],
          "scatterpolar": [
           {
            "marker": {
             "colorbar": {
              "outlinewidth": 0,
              "ticks": ""
             }
            },
            "type": "scatterpolar"
           }
          ],
          "scatterpolargl": [
           {
            "marker": {
             "colorbar": {
              "outlinewidth": 0,
              "ticks": ""
             }
            },
            "type": "scatterpolargl"
           }
          ],
          "scatterternary": [
           {
            "marker": {
             "colorbar": {
              "outlinewidth": 0,
              "ticks": ""
             }
            },
            "type": "scatterternary"
           }
          ],
          "surface": [
           {
            "colorbar": {
             "outlinewidth": 0,
             "ticks": ""
            },
            "colorscale": [
             [
              0,
              "#0d0887"
             ],
             [
              0.1111111111111111,
              "#46039f"
             ],
             [
              0.2222222222222222,
              "#7201a8"
             ],
             [
              0.3333333333333333,
              "#9c179e"
             ],
             [
              0.4444444444444444,
              "#bd3786"
             ],
             [
              0.5555555555555556,
              "#d8576b"
             ],
             [
              0.6666666666666666,
              "#ed7953"
             ],
             [
              0.7777777777777778,
              "#fb9f3a"
             ],
             [
              0.8888888888888888,
              "#fdca26"
             ],
             [
              1,
              "#f0f921"
             ]
            ],
            "type": "surface"
           }
          ],
          "table": [
           {
            "cells": {
             "fill": {
              "color": "#EBF0F8"
             },
             "line": {
              "color": "white"
             }
            },
            "header": {
             "fill": {
              "color": "#C8D4E3"
             },
             "line": {
              "color": "white"
             }
            },
            "type": "table"
           }
          ]
         },
         "layout": {
          "annotationdefaults": {
           "arrowcolor": "#2a3f5f",
           "arrowhead": 0,
           "arrowwidth": 1
          },
          "autotypenumbers": "strict",
          "coloraxis": {
           "colorbar": {
            "outlinewidth": 0,
            "ticks": ""
           }
          },
          "colorscale": {
           "diverging": [
            [
             0,
             "#8e0152"
            ],
            [
             0.1,
             "#c51b7d"
            ],
            [
             0.2,
             "#de77ae"
            ],
            [
             0.3,
             "#f1b6da"
            ],
            [
             0.4,
             "#fde0ef"
            ],
            [
             0.5,
             "#f7f7f7"
            ],
            [
             0.6,
             "#e6f5d0"
            ],
            [
             0.7,
             "#b8e186"
            ],
            [
             0.8,
             "#7fbc41"
            ],
            [
             0.9,
             "#4d9221"
            ],
            [
             1,
             "#276419"
            ]
           ],
           "sequential": [
            [
             0,
             "#0d0887"
            ],
            [
             0.1111111111111111,
             "#46039f"
            ],
            [
             0.2222222222222222,
             "#7201a8"
            ],
            [
             0.3333333333333333,
             "#9c179e"
            ],
            [
             0.4444444444444444,
             "#bd3786"
            ],
            [
             0.5555555555555556,
             "#d8576b"
            ],
            [
             0.6666666666666666,
             "#ed7953"
            ],
            [
             0.7777777777777778,
             "#fb9f3a"
            ],
            [
             0.8888888888888888,
             "#fdca26"
            ],
            [
             1,
             "#f0f921"
            ]
           ],
           "sequentialminus": [
            [
             0,
             "#0d0887"
            ],
            [
             0.1111111111111111,
             "#46039f"
            ],
            [
             0.2222222222222222,
             "#7201a8"
            ],
            [
             0.3333333333333333,
             "#9c179e"
            ],
            [
             0.4444444444444444,
             "#bd3786"
            ],
            [
             0.5555555555555556,
             "#d8576b"
            ],
            [
             0.6666666666666666,
             "#ed7953"
            ],
            [
             0.7777777777777778,
             "#fb9f3a"
            ],
            [
             0.8888888888888888,
             "#fdca26"
            ],
            [
             1,
             "#f0f921"
            ]
           ]
          },
          "colorway": [
           "#636efa",
           "#EF553B",
           "#00cc96",
           "#ab63fa",
           "#FFA15A",
           "#19d3f3",
           "#FF6692",
           "#B6E880",
           "#FF97FF",
           "#FECB52"
          ],
          "font": {
           "color": "#2a3f5f"
          },
          "geo": {
           "bgcolor": "white",
           "lakecolor": "white",
           "landcolor": "#E5ECF6",
           "showlakes": true,
           "showland": true,
           "subunitcolor": "white"
          },
          "hoverlabel": {
           "align": "left"
          },
          "hovermode": "closest",
          "mapbox": {
           "style": "light"
          },
          "paper_bgcolor": "white",
          "plot_bgcolor": "#E5ECF6",
          "polar": {
           "angularaxis": {
            "gridcolor": "white",
            "linecolor": "white",
            "ticks": ""
           },
           "bgcolor": "#E5ECF6",
           "radialaxis": {
            "gridcolor": "white",
            "linecolor": "white",
            "ticks": ""
           }
          },
          "scene": {
           "xaxis": {
            "backgroundcolor": "#E5ECF6",
            "gridcolor": "white",
            "gridwidth": 2,
            "linecolor": "white",
            "showbackground": true,
            "ticks": "",
            "zerolinecolor": "white"
           },
           "yaxis": {
            "backgroundcolor": "#E5ECF6",
            "gridcolor": "white",
            "gridwidth": 2,
            "linecolor": "white",
            "showbackground": true,
            "ticks": "",
            "zerolinecolor": "white"
           },
           "zaxis": {
            "backgroundcolor": "#E5ECF6",
            "gridcolor": "white",
            "gridwidth": 2,
            "linecolor": "white",
            "showbackground": true,
            "ticks": "",
            "zerolinecolor": "white"
           }
          },
          "shapedefaults": {
           "line": {
            "color": "#2a3f5f"
           }
          },
          "ternary": {
           "aaxis": {
            "gridcolor": "white",
            "linecolor": "white",
            "ticks": ""
           },
           "baxis": {
            "gridcolor": "white",
            "linecolor": "white",
            "ticks": ""
           },
           "bgcolor": "#E5ECF6",
           "caxis": {
            "gridcolor": "white",
            "linecolor": "white",
            "ticks": ""
           }
          },
          "title": {
           "x": 0.05
          },
          "xaxis": {
           "automargin": true,
           "gridcolor": "white",
           "linecolor": "white",
           "ticks": "",
           "title": {
            "standoff": 15
           },
           "zerolinecolor": "white",
           "zerolinewidth": 2
          },
          "yaxis": {
           "automargin": true,
           "gridcolor": "white",
           "linecolor": "white",
           "ticks": "",
           "title": {
            "standoff": 15
           },
           "zerolinecolor": "white",
           "zerolinewidth": 2
          }
         }
        },
        "title": {
         "text": "Left Wheel Speed vs Joystick Position"
        },
        "width": 800
       }
      }
     },
     "metadata": {},
     "output_type": "display_data"
    }
   ],
   "source": [
    "# Create individual detailed plots\n",
    "fig_individual = go.Figure()\n",
    "\n",
    "# Left wheel speed\n",
    "fig_lw = go.Figure(data=[go.Surface(\n",
    "    z=lw_speed_pivot.values, \n",
    "    x=x_vals, \n",
    "    y=y_vals,\n",
    "    colorscale='Viridis'\n",
    ")])\n",
    "\n",
    "fig_lw.update_layout(\n",
    "    title='Left Wheel Speed vs Joystick Position',\n",
    "    scene=dict(\n",
    "        xaxis_title='Joystick X (0-1023)',\n",
    "        yaxis_title='Joystick Y (0-1023)',\n",
    "        zaxis_title='Left Wheel Speed (-100 to 100)'\n",
    "    ),\n",
    "    width=800,\n",
    "    height=600\n",
    ")\n",
    "\n",
    "fig_lw.show()"
   ]
  },
  {
   "cell_type": "code",
   "execution_count": 7,
   "id": "f87f38a0",
   "metadata": {},
   "outputs": [
    {
     "data": {
      "application/vnd.plotly.v1+json": {
       "config": {
        "plotlyServerURL": "https://plot.ly"
       },
       "data": [
        {
         "colorscale": [
          [
           0,
           "#0d0887"
          ],
          [
           0.1111111111111111,
           "#46039f"
          ],
          [
           0.2222222222222222,
           "#7201a8"
          ],
          [
           0.3333333333333333,
           "#9c179e"
          ],
          [
           0.4444444444444444,
           "#bd3786"
          ],
          [
           0.5555555555555556,
           "#d8576b"
          ],
          [
           0.6666666666666666,
           "#ed7953"
          ],
          [
           0.7777777777777778,
           "#fb9f3a"
          ],
          [
           0.8888888888888888,
           "#fdca26"
          ],
          [
           1,
           "#f0f921"
          ]
         ],
         "type": "surface",
         "x": [
          0,
          51,
          102,
          153,
          204,
          255,
          306,
          357,
          408,
          459,
          510,
          561,
          612,
          663,
          714,
          765,
          816,
          867,
          918,
          969,
          1020
         ],
         "y": [
          0,
          51,
          102,
          153,
          204,
          255,
          306,
          357,
          408,
          459,
          510,
          561,
          612,
          663,
          714,
          765,
          816,
          867,
          918,
          969,
          1020
         ],
         "z": {
          "bdata": "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",
          "dtype": "f8",
          "shape": "21, 21"
         }
        }
       ],
       "layout": {
        "height": 600,
        "scene": {
         "xaxis": {
          "title": {
           "text": "Joystick X (0-1023)"
          }
         },
         "yaxis": {
          "title": {
           "text": "Joystick Y (0-1023)"
          }
         },
         "zaxis": {
          "title": {
           "text": "Right Wheel Speed (-100 to 100)"
          }
         }
        },
        "template": {
         "data": {
          "bar": [
           {
            "error_x": {
             "color": "#2a3f5f"
            },
            "error_y": {
             "color": "#2a3f5f"
            },
            "marker": {
             "line": {
              "color": "#E5ECF6",
              "width": 0.5
             },
             "pattern": {
              "fillmode": "overlay",
              "size": 10,
              "solidity": 0.2
             }
            },
            "type": "bar"
           }
          ],
          "barpolar": [
           {
            "marker": {
             "line": {
              "color": "#E5ECF6",
              "width": 0.5
             },
             "pattern": {
              "fillmode": "overlay",
              "size": 10,
              "solidity": 0.2
             }
            },
            "type": "barpolar"
           }
          ],
          "carpet": [
           {
            "aaxis": {
             "endlinecolor": "#2a3f5f",
             "gridcolor": "white",
             "linecolor": "white",
             "minorgridcolor": "white",
             "startlinecolor": "#2a3f5f"
            },
            "baxis": {
             "endlinecolor": "#2a3f5f",
             "gridcolor": "white",
             "linecolor": "white",
             "minorgridcolor": "white",
             "startlinecolor": "#2a3f5f"
            },
            "type": "carpet"
           }
          ],
          "choropleth": [
           {
            "colorbar": {
             "outlinewidth": 0,
             "ticks": ""
            },
            "type": "choropleth"
           }
          ],
          "contour": [
           {
            "colorbar": {
             "outlinewidth": 0,
             "ticks": ""
            },
            "colorscale": [
             [
              0,
              "#0d0887"
             ],
             [
              0.1111111111111111,
              "#46039f"
             ],
             [
              0.2222222222222222,
              "#7201a8"
             ],
             [
              0.3333333333333333,
              "#9c179e"
             ],
             [
              0.4444444444444444,
              "#bd3786"
             ],
             [
              0.5555555555555556,
              "#d8576b"
             ],
             [
              0.6666666666666666,
              "#ed7953"
             ],
             [
              0.7777777777777778,
              "#fb9f3a"
             ],
             [
              0.8888888888888888,
              "#fdca26"
             ],
             [
              1,
              "#f0f921"
             ]
            ],
            "type": "contour"
           }
          ],
          "contourcarpet": [
           {
            "colorbar": {
             "outlinewidth": 0,
             "ticks": ""
            },
            "type": "contourcarpet"
           }
          ],
          "heatmap": [
           {
            "colorbar": {
             "outlinewidth": 0,
             "ticks": ""
            },
            "colorscale": [
             [
              0,
              "#0d0887"
             ],
             [
              0.1111111111111111,
              "#46039f"
             ],
             [
              0.2222222222222222,
              "#7201a8"
             ],
             [
              0.3333333333333333,
              "#9c179e"
             ],
             [
              0.4444444444444444,
              "#bd3786"
             ],
             [
              0.5555555555555556,
              "#d8576b"
             ],
             [
              0.6666666666666666,
              "#ed7953"
             ],
             [
              0.7777777777777778,
              "#fb9f3a"
             ],
             [
              0.8888888888888888,
              "#fdca26"
             ],
             [
              1,
              "#f0f921"
             ]
            ],
            "type": "heatmap"
           }
          ],
          "histogram": [
           {
            "marker": {
             "pattern": {
              "fillmode": "overlay",
              "size": 10,
              "solidity": 0.2
             }
            },
            "type": "histogram"
           }
          ],
          "histogram2d": [
           {
            "colorbar": {
             "outlinewidth": 0,
             "ticks": ""
            },
            "colorscale": [
             [
              0,
              "#0d0887"
             ],
             [
              0.1111111111111111,
              "#46039f"
             ],
             [
              0.2222222222222222,
              "#7201a8"
             ],
             [
              0.3333333333333333,
              "#9c179e"
             ],
             [
              0.4444444444444444,
              "#bd3786"
             ],
             [
              0.5555555555555556,
              "#d8576b"
             ],
             [
              0.6666666666666666,
              "#ed7953"
             ],
             [
              0.7777777777777778,
              "#fb9f3a"
             ],
             [
              0.8888888888888888,
              "#fdca26"
             ],
             [
              1,
              "#f0f921"
             ]
            ],
            "type": "histogram2d"
           }
          ],
          "histogram2dcontour": [
           {
            "colorbar": {
             "outlinewidth": 0,
             "ticks": ""
            },
            "colorscale": [
             [
              0,
              "#0d0887"
             ],
             [
              0.1111111111111111,
              "#46039f"
             ],
             [
              0.2222222222222222,
              "#7201a8"
             ],
             [
              0.3333333333333333,
              "#9c179e"
             ],
             [
              0.4444444444444444,
              "#bd3786"
             ],
             [
              0.5555555555555556,
              "#d8576b"
             ],
             [
              0.6666666666666666,
              "#ed7953"
             ],
             [
              0.7777777777777778,
              "#fb9f3a"
             ],
             [
              0.8888888888888888,
              "#fdca26"
             ],
             [
              1,
              "#f0f921"
             ]
            ],
            "type": "histogram2dcontour"
           }
          ],
          "mesh3d": [
           {
            "colorbar": {
             "outlinewidth": 0,
             "ticks": ""
            },
            "type": "mesh3d"
           }
          ],
          "parcoords": [
           {
            "line": {
             "colorbar": {
              "outlinewidth": 0,
              "ticks": ""
             }
            },
            "type": "parcoords"
           }
          ],
          "pie": [
           {
            "automargin": true,
            "type": "pie"
           }
          ],
          "scatter": [
           {
            "fillpattern": {
             "fillmode": "overlay",
             "size": 10,
             "solidity": 0.2
            },
            "type": "scatter"
           }
          ],
          "scatter3d": [
           {
            "line": {
             "colorbar": {
              "outlinewidth": 0,
              "ticks": ""
             }
            },
            "marker": {
             "colorbar": {
              "outlinewidth": 0,
              "ticks": ""
             }
            },
            "type": "scatter3d"
           }
          ],
          "scattercarpet": [
           {
            "marker": {
             "colorbar": {
              "outlinewidth": 0,
              "ticks": ""
             }
            },
            "type": "scattercarpet"
           }
          ],
          "scattergeo": [
           {
            "marker": {
             "colorbar": {
              "outlinewidth": 0,
              "ticks": ""
             }
            },
            "type": "scattergeo"
           }
          ],
          "scattergl": [
           {
            "marker": {
             "colorbar": {
              "outlinewidth": 0,
              "ticks": ""
             }
            },
            "type": "scattergl"
           }
          ],
          "scattermap": [
           {
            "marker": {
             "colorbar": {
              "outlinewidth": 0,
              "ticks": ""
             }
            },
            "type": "scattermap"
           }
          ],
          "scattermapbox": [
           {
            "marker": {
             "colorbar": {
              "outlinewidth": 0,
              "ticks": ""
             }
            },
            "type": "scattermapbox"
           }
          ],
          "scatterpolar": [
           {
            "marker": {
             "colorbar": {
              "outlinewidth": 0,
              "ticks": ""
             }
            },
            "type": "scatterpolar"
           }
          ],
          "scatterpolargl": [
           {
            "marker": {
             "colorbar": {
              "outlinewidth": 0,
              "ticks": ""
             }
            },
            "type": "scatterpolargl"
           }
          ],
          "scatterternary": [
           {
            "marker": {
             "colorbar": {
              "outlinewidth": 0,
              "ticks": ""
             }
            },
            "type": "scatterternary"
           }
          ],
          "surface": [
           {
            "colorbar": {
             "outlinewidth": 0,
             "ticks": ""
            },
            "colorscale": [
             [
              0,
              "#0d0887"
             ],
             [
              0.1111111111111111,
              "#46039f"
             ],
             [
              0.2222222222222222,
              "#7201a8"
             ],
             [
              0.3333333333333333,
              "#9c179e"
             ],
             [
              0.4444444444444444,
              "#bd3786"
             ],
             [
              0.5555555555555556,
              "#d8576b"
             ],
             [
              0.6666666666666666,
              "#ed7953"
             ],
             [
              0.7777777777777778,
              "#fb9f3a"
             ],
             [
              0.8888888888888888,
              "#fdca26"
             ],
             [
              1,
              "#f0f921"
             ]
            ],
            "type": "surface"
           }
          ],
          "table": [
           {
            "cells": {
             "fill": {
              "color": "#EBF0F8"
             },
             "line": {
              "color": "white"
             }
            },
            "header": {
             "fill": {
              "color": "#C8D4E3"
             },
             "line": {
              "color": "white"
             }
            },
            "type": "table"
           }
          ]
         },
         "layout": {
          "annotationdefaults": {
           "arrowcolor": "#2a3f5f",
           "arrowhead": 0,
           "arrowwidth": 1
          },
          "autotypenumbers": "strict",
          "coloraxis": {
           "colorbar": {
            "outlinewidth": 0,
            "ticks": ""
           }
          },
          "colorscale": {
           "diverging": [
            [
             0,
             "#8e0152"
            ],
            [
             0.1,
             "#c51b7d"
            ],
            [
             0.2,
             "#de77ae"
            ],
            [
             0.3,
             "#f1b6da"
            ],
            [
             0.4,
             "#fde0ef"
            ],
            [
             0.5,
             "#f7f7f7"
            ],
            [
             0.6,
             "#e6f5d0"
            ],
            [
             0.7,
             "#b8e186"
            ],
            [
             0.8,
             "#7fbc41"
            ],
            [
             0.9,
             "#4d9221"
            ],
            [
             1,
             "#276419"
            ]
           ],
           "sequential": [
            [
             0,
             "#0d0887"
            ],
            [
             0.1111111111111111,
             "#46039f"
            ],
            [
             0.2222222222222222,
             "#7201a8"
            ],
            [
             0.3333333333333333,
             "#9c179e"
            ],
            [
             0.4444444444444444,
             "#bd3786"
            ],
            [
             0.5555555555555556,
             "#d8576b"
            ],
            [
             0.6666666666666666,
             "#ed7953"
            ],
            [
             0.7777777777777778,
             "#fb9f3a"
            ],
            [
             0.8888888888888888,
             "#fdca26"
            ],
            [
             1,
             "#f0f921"
            ]
           ],
           "sequentialminus": [
            [
             0,
             "#0d0887"
            ],
            [
             0.1111111111111111,
             "#46039f"
            ],
            [
             0.2222222222222222,
             "#7201a8"
            ],
            [
             0.3333333333333333,
             "#9c179e"
            ],
            [
             0.4444444444444444,
             "#bd3786"
            ],
            [
             0.5555555555555556,
             "#d8576b"
            ],
            [
             0.6666666666666666,
             "#ed7953"
            ],
            [
             0.7777777777777778,
             "#fb9f3a"
            ],
            [
             0.8888888888888888,
             "#fdca26"
            ],
            [
             1,
             "#f0f921"
            ]
           ]
          },
          "colorway": [
           "#636efa",
           "#EF553B",
           "#00cc96",
           "#ab63fa",
           "#FFA15A",
           "#19d3f3",
           "#FF6692",
           "#B6E880",
           "#FF97FF",
           "#FECB52"
          ],
          "font": {
           "color": "#2a3f5f"
          },
          "geo": {
           "bgcolor": "white",
           "lakecolor": "white",
           "landcolor": "#E5ECF6",
           "showlakes": true,
           "showland": true,
           "subunitcolor": "white"
          },
          "hoverlabel": {
           "align": "left"
          },
          "hovermode": "closest",
          "mapbox": {
           "style": "light"
          },
          "paper_bgcolor": "white",
          "plot_bgcolor": "#E5ECF6",
          "polar": {
           "angularaxis": {
            "gridcolor": "white",
            "linecolor": "white",
            "ticks": ""
           },
           "bgcolor": "#E5ECF6",
           "radialaxis": {
            "gridcolor": "white",
            "linecolor": "white",
            "ticks": ""
           }
          },
          "scene": {
           "xaxis": {
            "backgroundcolor": "#E5ECF6",
            "gridcolor": "white",
            "gridwidth": 2,
            "linecolor": "white",
            "showbackground": true,
            "ticks": "",
            "zerolinecolor": "white"
           },
           "yaxis": {
            "backgroundcolor": "#E5ECF6",
            "gridcolor": "white",
            "gridwidth": 2,
            "linecolor": "white",
            "showbackground": true,
            "ticks": "",
            "zerolinecolor": "white"
           },
           "zaxis": {
            "backgroundcolor": "#E5ECF6",
            "gridcolor": "white",
            "gridwidth": 2,
            "linecolor": "white",
            "showbackground": true,
            "ticks": "",
            "zerolinecolor": "white"
           }
          },
          "shapedefaults": {
           "line": {
            "color": "#2a3f5f"
           }
          },
          "ternary": {
           "aaxis": {
            "gridcolor": "white",
            "linecolor": "white",
            "ticks": ""
           },
           "baxis": {
            "gridcolor": "white",
            "linecolor": "white",
            "ticks": ""
           },
           "bgcolor": "#E5ECF6",
           "caxis": {
            "gridcolor": "white",
            "linecolor": "white",
            "ticks": ""
           }
          },
          "title": {
           "x": 0.05
          },
          "xaxis": {
           "automargin": true,
           "gridcolor": "white",
           "linecolor": "white",
           "ticks": "",
           "title": {
            "standoff": 15
           },
           "zerolinecolor": "white",
           "zerolinewidth": 2
          },
          "yaxis": {
           "automargin": true,
           "gridcolor": "white",
           "linecolor": "white",
           "ticks": "",
           "title": {
            "standoff": 15
           },
           "zerolinecolor": "white",
           "zerolinewidth": 2
          }
         }
        },
        "title": {
         "text": "Right Wheel Speed vs Joystick Position"
        },
        "width": 800
       }
      }
     },
     "metadata": {},
     "output_type": "display_data"
    }
   ],
   "source": [
    "# Right wheel speed\n",
    "fig_rw = go.Figure(data=[go.Surface(\n",
    "    z=rw_speed_pivot.values, \n",
    "    x=x_vals, \n",
    "    y=y_vals,\n",
    "    colorscale='Plasma'\n",
    ")])\n",
    "\n",
    "fig_rw.update_layout(\n",
    "    title='Right Wheel Speed vs Joystick Position',\n",
    "    scene=dict(\n",
    "        xaxis_title='Joystick X (0-1023)',\n",
    "        yaxis_title='Joystick Y (0-1023)',\n",
    "        zaxis_title='Right Wheel Speed (-100 to 100)'\n",
    "    ),\n",
    "    width=800,\n",
    "    height=600\n",
    ")\n",
    "\n",
    "fig_rw.show()"
   ]
  },
  {
   "cell_type": "code",
   "execution_count": 8,
   "id": "7cf4ea87",
   "metadata": {},
   "outputs": [
    {
     "data": {
      "application/vnd.plotly.v1+json": {
       "config": {
        "plotlyServerURL": "https://plot.ly"
       },
       "data": [
        {
         "colorscale": [
          [
           0,
           "rgb(103,0,31)"
          ],
          [
           0.1,
           "rgb(178,24,43)"
          ],
          [
           0.2,
           "rgb(214,96,77)"
          ],
          [
           0.3,
           "rgb(244,165,130)"
          ],
          [
           0.4,
           "rgb(253,219,199)"
          ],
          [
           0.5,
           "rgb(247,247,247)"
          ],
          [
           0.6,
           "rgb(209,229,240)"
          ],
          [
           0.7,
           "rgb(146,197,222)"
          ],
          [
           0.8,
           "rgb(67,147,195)"
          ],
          [
           0.9,
           "rgb(33,102,172)"
          ],
          [
           1,
           "rgb(5,48,97)"
          ]
         ],
         "type": "surface",
         "x": [
          0,
          51,
          102,
          153,
          204,
          255,
          306,
          357,
          408,
          459,
          510,
          561,
          612,
          663,
          714,
          765,
          816,
          867,
          918,
          969,
          1020
         ],
         "y": [
          0,
          51,
          102,
          153,
          204,
          255,
          306,
          357,
          408,
          459,
          510,
          561,
          612,
          663,
          714,
          765,
          816,
          867,
          918,
          969,
          1020
         ],
         "z": {
          "bdata": "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",
          "dtype": "f8",
          "shape": "21, 21"
         }
        }
       ],
       "layout": {
        "height": 600,
        "scene": {
         "xaxis": {
          "title": {
           "text": "Joystick X (0-1023)"
          }
         },
         "yaxis": {
          "title": {
           "text": "Joystick Y (0-1023)"
          }
         },
         "zaxis": {
          "title": {
           "text": "Turn Speed (-100 to 100)"
          }
         }
        },
        "template": {
         "data": {
          "bar": [
           {
            "error_x": {
             "color": "#2a3f5f"
            },
            "error_y": {
             "color": "#2a3f5f"
            },
            "marker": {
             "line": {
              "color": "#E5ECF6",
              "width": 0.5
             },
             "pattern": {
              "fillmode": "overlay",
              "size": 10,
              "solidity": 0.2
             }
            },
            "type": "bar"
           }
          ],
          "barpolar": [
           {
            "marker": {
             "line": {
              "color": "#E5ECF6",
              "width": 0.5
             },
             "pattern": {
              "fillmode": "overlay",
              "size": 10,
              "solidity": 0.2
             }
            },
            "type": "barpolar"
           }
          ],
          "carpet": [
           {
            "aaxis": {
             "endlinecolor": "#2a3f5f",
             "gridcolor": "white",
             "linecolor": "white",
             "minorgridcolor": "white",
             "startlinecolor": "#2a3f5f"
            },
            "baxis": {
             "endlinecolor": "#2a3f5f",
             "gridcolor": "white",
             "linecolor": "white",
             "minorgridcolor": "white",
             "startlinecolor": "#2a3f5f"
            },
            "type": "carpet"
           }
          ],
          "choropleth": [
           {
            "colorbar": {
             "outlinewidth": 0,
             "ticks": ""
            },
            "type": "choropleth"
           }
          ],
          "contour": [
           {
            "colorbar": {
             "outlinewidth": 0,
             "ticks": ""
            },
            "colorscale": [
             [
              0,
              "#0d0887"
             ],
             [
              0.1111111111111111,
              "#46039f"
             ],
             [
              0.2222222222222222,
              "#7201a8"
             ],
             [
              0.3333333333333333,
              "#9c179e"
             ],
             [
              0.4444444444444444,
              "#bd3786"
             ],
             [
              0.5555555555555556,
              "#d8576b"
             ],
             [
              0.6666666666666666,
              "#ed7953"
             ],
             [
              0.7777777777777778,
              "#fb9f3a"
             ],
             [
              0.8888888888888888,
              "#fdca26"
             ],
             [
              1,
              "#f0f921"
             ]
            ],
            "type": "contour"
           }
          ],
          "contourcarpet": [
           {
            "colorbar": {
             "outlinewidth": 0,
             "ticks": ""
            },
            "type": "contourcarpet"
           }
          ],
          "heatmap": [
           {
            "colorbar": {
             "outlinewidth": 0,
             "ticks": ""
            },
            "colorscale": [
             [
              0,
              "#0d0887"
             ],
             [
              0.1111111111111111,
              "#46039f"
             ],
             [
              0.2222222222222222,
              "#7201a8"
             ],
             [
              0.3333333333333333,
              "#9c179e"
             ],
             [
              0.4444444444444444,
              "#bd3786"
             ],
             [
              0.5555555555555556,
              "#d8576b"
             ],
             [
              0.6666666666666666,
              "#ed7953"
             ],
             [
              0.7777777777777778,
              "#fb9f3a"
             ],
             [
              0.8888888888888888,
              "#fdca26"
             ],
             [
              1,
              "#f0f921"
             ]
            ],
            "type": "heatmap"
           }
          ],
          "histogram": [
           {
            "marker": {
             "pattern": {
              "fillmode": "overlay",
              "size": 10,
              "solidity": 0.2
             }
            },
            "type": "histogram"
           }
          ],
          "histogram2d": [
           {
            "colorbar": {
             "outlinewidth": 0,
             "ticks": ""
            },
            "colorscale": [
             [
              0,
              "#0d0887"
             ],
             [
              0.1111111111111111,
              "#46039f"
             ],
             [
              0.2222222222222222,
              "#7201a8"
             ],
             [
              0.3333333333333333,
              "#9c179e"
             ],
             [
              0.4444444444444444,
              "#bd3786"
             ],
             [
              0.5555555555555556,
              "#d8576b"
             ],
             [
              0.6666666666666666,
              "#ed7953"
             ],
             [
              0.7777777777777778,
              "#fb9f3a"
             ],
             [
              0.8888888888888888,
              "#fdca26"
             ],
             [
              1,
              "#f0f921"
             ]
            ],
            "type": "histogram2d"
           }
          ],
          "histogram2dcontour": [
           {
            "colorbar": {
             "outlinewidth": 0,
             "ticks": ""
            },
            "colorscale": [
             [
              0,
              "#0d0887"
             ],
             [
              0.1111111111111111,
              "#46039f"
             ],
             [
              0.2222222222222222,
              "#7201a8"
             ],
             [
              0.3333333333333333,
              "#9c179e"
             ],
             [
              0.4444444444444444,
              "#bd3786"
             ],
             [
              0.5555555555555556,
              "#d8576b"
             ],
             [
              0.6666666666666666,
              "#ed7953"
             ],
             [
              0.7777777777777778,
              "#fb9f3a"
             ],
             [
              0.8888888888888888,
              "#fdca26"
             ],
             [
              1,
              "#f0f921"
             ]
            ],
            "type": "histogram2dcontour"
           }
          ],
          "mesh3d": [
           {
            "colorbar": {
             "outlinewidth": 0,
             "ticks": ""
            },
            "type": "mesh3d"
           }
          ],
          "parcoords": [
           {
            "line": {
             "colorbar": {
              "outlinewidth": 0,
              "ticks": ""
             }
            },
            "type": "parcoords"
           }
          ],
          "pie": [
           {
            "automargin": true,
            "type": "pie"
           }
          ],
          "scatter": [
           {
            "fillpattern": {
             "fillmode": "overlay",
             "size": 10,
             "solidity": 0.2
            },
            "type": "scatter"
           }
          ],
          "scatter3d": [
           {
            "line": {
             "colorbar": {
              "outlinewidth": 0,
              "ticks": ""
             }
            },
            "marker": {
             "colorbar": {
              "outlinewidth": 0,
              "ticks": ""
             }
            },
            "type": "scatter3d"
           }
          ],
          "scattercarpet": [
           {
            "marker": {
             "colorbar": {
              "outlinewidth": 0,
              "ticks": ""
             }
            },
            "type": "scattercarpet"
           }
          ],
          "scattergeo": [
           {
            "marker": {
             "colorbar": {
              "outlinewidth": 0,
              "ticks": ""
             }
            },
            "type": "scattergeo"
           }
          ],
          "scattergl": [
           {
            "marker": {
             "colorbar": {
              "outlinewidth": 0,
              "ticks": ""
             }
            },
            "type": "scattergl"
           }
          ],
          "scattermap": [
           {
            "marker": {
             "colorbar": {
              "outlinewidth": 0,
              "ticks": ""
             }
            },
            "type": "scattermap"
           }
          ],
          "scattermapbox": [
           {
            "marker": {
             "colorbar": {
              "outlinewidth": 0,
              "ticks": ""
             }
            },
            "type": "scattermapbox"
           }
          ],
          "scatterpolar": [
           {
            "marker": {
             "colorbar": {
              "outlinewidth": 0,
              "ticks": ""
             }
            },
            "type": "scatterpolar"
           }
          ],
          "scatterpolargl": [
           {
            "marker": {
             "colorbar": {
              "outlinewidth": 0,
              "ticks": ""
             }
            },
            "type": "scatterpolargl"
           }
          ],
          "scatterternary": [
           {
            "marker": {
             "colorbar": {
              "outlinewidth": 0,
              "ticks": ""
             }
            },
            "type": "scatterternary"
           }
          ],
          "surface": [
           {
            "colorbar": {
             "outlinewidth": 0,
             "ticks": ""
            },
            "colorscale": [
             [
              0,
              "#0d0887"
             ],
             [
              0.1111111111111111,
              "#46039f"
             ],
             [
              0.2222222222222222,
              "#7201a8"
             ],
             [
              0.3333333333333333,
              "#9c179e"
             ],
             [
              0.4444444444444444,
              "#bd3786"
             ],
             [
              0.5555555555555556,
              "#d8576b"
             ],
             [
              0.6666666666666666,
              "#ed7953"
             ],
             [
              0.7777777777777778,
              "#fb9f3a"
             ],
             [
              0.8888888888888888,
              "#fdca26"
             ],
             [
              1,
              "#f0f921"
             ]
            ],
            "type": "surface"
           }
          ],
          "table": [
           {
            "cells": {
             "fill": {
              "color": "#EBF0F8"
             },
             "line": {
              "color": "white"
             }
            },
            "header": {
             "fill": {
              "color": "#C8D4E3"
             },
             "line": {
              "color": "white"
             }
            },
            "type": "table"
           }
          ]
         },
         "layout": {
          "annotationdefaults": {
           "arrowcolor": "#2a3f5f",
           "arrowhead": 0,
           "arrowwidth": 1
          },
          "autotypenumbers": "strict",
          "coloraxis": {
           "colorbar": {
            "outlinewidth": 0,
            "ticks": ""
           }
          },
          "colorscale": {
           "diverging": [
            [
             0,
             "#8e0152"
            ],
            [
             0.1,
             "#c51b7d"
            ],
            [
             0.2,
             "#de77ae"
            ],
            [
             0.3,
             "#f1b6da"
            ],
            [
             0.4,
             "#fde0ef"
            ],
            [
             0.5,
             "#f7f7f7"
            ],
            [
             0.6,
             "#e6f5d0"
            ],
            [
             0.7,
             "#b8e186"
            ],
            [
             0.8,
             "#7fbc41"
            ],
            [
             0.9,
             "#4d9221"
            ],
            [
             1,
             "#276419"
            ]
           ],
           "sequential": [
            [
             0,
             "#0d0887"
            ],
            [
             0.1111111111111111,
             "#46039f"
            ],
            [
             0.2222222222222222,
             "#7201a8"
            ],
            [
             0.3333333333333333,
             "#9c179e"
            ],
            [
             0.4444444444444444,
             "#bd3786"
            ],
            [
             0.5555555555555556,
             "#d8576b"
            ],
            [
             0.6666666666666666,
             "#ed7953"
            ],
            [
             0.7777777777777778,
             "#fb9f3a"
            ],
            [
             0.8888888888888888,
             "#fdca26"
            ],
            [
             1,
             "#f0f921"
            ]
           ],
           "sequentialminus": [
            [
             0,
             "#0d0887"
            ],
            [
             0.1111111111111111,
             "#46039f"
            ],
            [
             0.2222222222222222,
             "#7201a8"
            ],
            [
             0.3333333333333333,
             "#9c179e"
            ],
            [
             0.4444444444444444,
             "#bd3786"
            ],
            [
             0.5555555555555556,
             "#d8576b"
            ],
            [
             0.6666666666666666,
             "#ed7953"
            ],
            [
             0.7777777777777778,
             "#fb9f3a"
            ],
            [
             0.8888888888888888,
             "#fdca26"
            ],
            [
             1,
             "#f0f921"
            ]
           ]
          },
          "colorway": [
           "#636efa",
           "#EF553B",
           "#00cc96",
           "#ab63fa",
           "#FFA15A",
           "#19d3f3",
           "#FF6692",
           "#B6E880",
           "#FF97FF",
           "#FECB52"
          ],
          "font": {
           "color": "#2a3f5f"
          },
          "geo": {
           "bgcolor": "white",
           "lakecolor": "white",
           "landcolor": "#E5ECF6",
           "showlakes": true,
           "showland": true,
           "subunitcolor": "white"
          },
          "hoverlabel": {
           "align": "left"
          },
          "hovermode": "closest",
          "mapbox": {
           "style": "light"
          },
          "paper_bgcolor": "white",
          "plot_bgcolor": "#E5ECF6",
          "polar": {
           "angularaxis": {
            "gridcolor": "white",
            "linecolor": "white",
            "ticks": ""
           },
           "bgcolor": "#E5ECF6",
           "radialaxis": {
            "gridcolor": "white",
            "linecolor": "white",
            "ticks": ""
           }
          },
          "scene": {
           "xaxis": {
            "backgroundcolor": "#E5ECF6",
            "gridcolor": "white",
            "gridwidth": 2,
            "linecolor": "white",
            "showbackground": true,
            "ticks": "",
            "zerolinecolor": "white"
           },
           "yaxis": {
            "backgroundcolor": "#E5ECF6",
            "gridcolor": "white",
            "gridwidth": 2,
            "linecolor": "white",
            "showbackground": true,
            "ticks": "",
            "zerolinecolor": "white"
           },
           "zaxis": {
            "backgroundcolor": "#E5ECF6",
            "gridcolor": "white",
            "gridwidth": 2,
            "linecolor": "white",
            "showbackground": true,
            "ticks": "",
            "zerolinecolor": "white"
           }
          },
          "shapedefaults": {
           "line": {
            "color": "#2a3f5f"
           }
          },
          "ternary": {
           "aaxis": {
            "gridcolor": "white",
            "linecolor": "white",
            "ticks": ""
           },
           "baxis": {
            "gridcolor": "white",
            "linecolor": "white",
            "ticks": ""
           },
           "bgcolor": "#E5ECF6",
           "caxis": {
            "gridcolor": "white",
            "linecolor": "white",
            "ticks": ""
           }
          },
          "title": {
           "x": 0.05
          },
          "xaxis": {
           "automargin": true,
           "gridcolor": "white",
           "linecolor": "white",
           "ticks": "",
           "title": {
            "standoff": 15
           },
           "zerolinecolor": "white",
           "zerolinewidth": 2
          },
          "yaxis": {
           "automargin": true,
           "gridcolor": "white",
           "linecolor": "white",
           "ticks": "",
           "title": {
            "standoff": 15
           },
           "zerolinecolor": "white",
           "zerolinewidth": 2
          }
         }
        },
        "title": {
         "text": "Turn Speed vs Joystick Position"
        },
        "width": 800
       }
      }
     },
     "metadata": {},
     "output_type": "display_data"
    }
   ],
   "source": [
    "# Turn speed analysis\n",
    "fig_turn = go.Figure(data=[go.Surface(\n",
    "    z=turn_speed_pivot.values, \n",
    "    x=x_vals, \n",
    "    y=y_vals,\n",
    "    colorscale='RdBu'\n",
    ")])\n",
    "\n",
    "fig_turn.update_layout(\n",
    "    title='Turn Speed vs Joystick Position',\n",
    "    scene=dict(\n",
    "        xaxis_title='Joystick X (0-1023)',\n",
    "        yaxis_title='Joystick Y (0-1023)',\n",
    "        zaxis_title='Turn Speed (-100 to 100)'\n",
    "    ),\n",
    "    width=800,\n",
    "    height=600\n",
    ")\n",
    "\n",
    "fig_turn.show()"
   ]
  },
  {
   "cell_type": "code",
   "execution_count": 9,
   "id": "870827d5",
   "metadata": {},
   "outputs": [
    {
     "data": {
      "application/vnd.plotly.v1+json": {
       "config": {
        "plotlyServerURL": "https://plot.ly"
       },
       "data": [
        {
         "mode": "markers",
         "name": "No Turn Input",
         "type": "scatter",
         "x": [],
         "xaxis": "x",
         "y": [],
         "yaxis": "y"
        },
        {
         "mode": "lines+markers",
         "name": "Max Forward Speed",
         "type": "scatter",
         "x": {
          "bdata": "AAAzAGYAmQDMAP8AMgFlAZgBywH+ATECZAKXAsoC/QIwA2MDlgPJA/wD",
          "dtype": "i2"
         },
         "xaxis": "x2",
         "y": {
          "bdata": "3XLLLbfcQEDyz373zv86QCm6ZpMvRjRAyhMWdD+6MUA7FxpdR2kuQOUGCNIPXilAjfb1RthSJEBmzMd3QY8eQLyro2HSeBRAHRb/lsbEBEAWmNpWDf2yP5pskcH1lAPA+9bs9ungE8Ct9xANWfcdwC6MmhHkBiTAhZysnBsSKcDbrL4nUx0uwJleaFlFlDHAxWbxHuEZNMDG7ARbiZo6wEiBjl8UqkDA",
          "dtype": "f8"
         },
         "yaxis": "y2"
        }
       ],
       "layout": {
        "annotations": [
         {
          "font": {
           "size": 16
          },
          "showarrow": false,
          "text": "Turn Speed vs Forward Speed",
          "x": 0.225,
          "xanchor": "center",
          "xref": "paper",
          "y": 1,
          "yanchor": "bottom",
          "yref": "paper"
         },
         {
          "font": {
           "size": 16
          },
          "showarrow": false,
          "text": "Turn Speed at Max Forward",
          "x": 0.775,
          "xanchor": "center",
          "xref": "paper",
          "y": 1,
          "yanchor": "bottom",
          "yref": "paper"
         }
        ],
        "height": 400,
        "template": {
         "data": {
          "bar": [
           {
            "error_x": {
             "color": "#2a3f5f"
            },
            "error_y": {
             "color": "#2a3f5f"
            },
            "marker": {
             "line": {
              "color": "#E5ECF6",
              "width": 0.5
             },
             "pattern": {
              "fillmode": "overlay",
              "size": 10,
              "solidity": 0.2
             }
            },
            "type": "bar"
           }
          ],
          "barpolar": [
           {
            "marker": {
             "line": {
              "color": "#E5ECF6",
              "width": 0.5
             },
             "pattern": {
              "fillmode": "overlay",
              "size": 10,
              "solidity": 0.2
             }
            },
            "type": "barpolar"
           }
          ],
          "carpet": [
           {
            "aaxis": {
             "endlinecolor": "#2a3f5f",
             "gridcolor": "white",
             "linecolor": "white",
             "minorgridcolor": "white",
             "startlinecolor": "#2a3f5f"
            },
            "baxis": {
             "endlinecolor": "#2a3f5f",
             "gridcolor": "white",
             "linecolor": "white",
             "minorgridcolor": "white",
             "startlinecolor": "#2a3f5f"
            },
            "type": "carpet"
           }
          ],
          "choropleth": [
           {
            "colorbar": {
             "outlinewidth": 0,
             "ticks": ""
            },
            "type": "choropleth"
           }
          ],
          "contour": [
           {
            "colorbar": {
             "outlinewidth": 0,
             "ticks": ""
            },
            "colorscale": [
             [
              0,
              "#0d0887"
             ],
             [
              0.1111111111111111,
              "#46039f"
             ],
             [
              0.2222222222222222,
              "#7201a8"
             ],
             [
              0.3333333333333333,
              "#9c179e"
             ],
             [
              0.4444444444444444,
              "#bd3786"
             ],
             [
              0.5555555555555556,
              "#d8576b"
             ],
             [
              0.6666666666666666,
              "#ed7953"
             ],
             [
              0.7777777777777778,
              "#fb9f3a"
             ],
             [
              0.8888888888888888,
              "#fdca26"
             ],
             [
              1,
              "#f0f921"
             ]
            ],
            "type": "contour"
           }
          ],
          "contourcarpet": [
           {
            "colorbar": {
             "outlinewidth": 0,
             "ticks": ""
            },
            "type": "contourcarpet"
           }
          ],
          "heatmap": [
           {
            "colorbar": {
             "outlinewidth": 0,
             "ticks": ""
            },
            "colorscale": [
             [
              0,
              "#0d0887"
             ],
             [
              0.1111111111111111,
              "#46039f"
             ],
             [
              0.2222222222222222,
              "#7201a8"
             ],
             [
              0.3333333333333333,
              "#9c179e"
             ],
             [
              0.4444444444444444,
              "#bd3786"
             ],
             [
              0.5555555555555556,
              "#d8576b"
             ],
             [
              0.6666666666666666,
              "#ed7953"
             ],
             [
              0.7777777777777778,
              "#fb9f3a"
             ],
             [
              0.8888888888888888,
              "#fdca26"
             ],
             [
              1,
              "#f0f921"
             ]
            ],
            "type": "heatmap"
           }
          ],
          "histogram": [
           {
            "marker": {
             "pattern": {
              "fillmode": "overlay",
              "size": 10,
              "solidity": 0.2
             }
            },
            "type": "histogram"
           }
          ],
          "histogram2d": [
           {
            "colorbar": {
             "outlinewidth": 0,
             "ticks": ""
            },
            "colorscale": [
             [
              0,
              "#0d0887"
             ],
             [
              0.1111111111111111,
              "#46039f"
             ],
             [
              0.2222222222222222,
              "#7201a8"
             ],
             [
              0.3333333333333333,
              "#9c179e"
             ],
             [
              0.4444444444444444,
              "#bd3786"
             ],
             [
              0.5555555555555556,
              "#d8576b"
             ],
             [
              0.6666666666666666,
              "#ed7953"
             ],
             [
              0.7777777777777778,
              "#fb9f3a"
             ],
             [
              0.8888888888888888,
              "#fdca26"
             ],
             [
              1,
              "#f0f921"
             ]
            ],
            "type": "histogram2d"
           }
          ],
          "histogram2dcontour": [
           {
            "colorbar": {
             "outlinewidth": 0,
             "ticks": ""
            },
            "colorscale": [
             [
              0,
              "#0d0887"
             ],
             [
              0.1111111111111111,
              "#46039f"
             ],
             [
              0.2222222222222222,
              "#7201a8"
             ],
             [
              0.3333333333333333,
              "#9c179e"
             ],
             [
              0.4444444444444444,
              "#bd3786"
             ],
             [
              0.5555555555555556,
              "#d8576b"
             ],
             [
              0.6666666666666666,
              "#ed7953"
             ],
             [
              0.7777777777777778,
              "#fb9f3a"
             ],
             [
              0.8888888888888888,
              "#fdca26"
             ],
             [
              1,
              "#f0f921"
             ]
            ],
            "type": "histogram2dcontour"
           }
          ],
          "mesh3d": [
           {
            "colorbar": {
             "outlinewidth": 0,
             "ticks": ""
            },
            "type": "mesh3d"
           }
          ],
          "parcoords": [
           {
            "line": {
             "colorbar": {
              "outlinewidth": 0,
              "ticks": ""
             }
            },
            "type": "parcoords"
           }
          ],
          "pie": [
           {
            "automargin": true,
            "type": "pie"
           }
          ],
          "scatter": [
           {
            "fillpattern": {
             "fillmode": "overlay",
             "size": 10,
             "solidity": 0.2
            },
            "type": "scatter"
           }
          ],
          "scatter3d": [
           {
            "line": {
             "colorbar": {
              "outlinewidth": 0,
              "ticks": ""
             }
            },
            "marker": {
             "colorbar": {
              "outlinewidth": 0,
              "ticks": ""
             }
            },
            "type": "scatter3d"
           }
          ],
          "scattercarpet": [
           {
            "marker": {
             "colorbar": {
              "outlinewidth": 0,
              "ticks": ""
             }
            },
            "type": "scattercarpet"
           }
          ],
          "scattergeo": [
           {
            "marker": {
             "colorbar": {
              "outlinewidth": 0,
              "ticks": ""
             }
            },
            "type": "scattergeo"
           }
          ],
          "scattergl": [
           {
            "marker": {
             "colorbar": {
              "outlinewidth": 0,
              "ticks": ""
             }
            },
            "type": "scattergl"
           }
          ],
          "scattermap": [
           {
            "marker": {
             "colorbar": {
              "outlinewidth": 0,
              "ticks": ""
             }
            },
            "type": "scattermap"
           }
          ],
          "scattermapbox": [
           {
            "marker": {
             "colorbar": {
              "outlinewidth": 0,
              "ticks": ""
             }
            },
            "type": "scattermapbox"
           }
          ],
          "scatterpolar": [
           {
            "marker": {
             "colorbar": {
              "outlinewidth": 0,
              "ticks": ""
             }
            },
            "type": "scatterpolar"
           }
          ],
          "scatterpolargl": [
           {
            "marker": {
             "colorbar": {
              "outlinewidth": 0,
              "ticks": ""
             }
            },
            "type": "scatterpolargl"
           }
          ],
          "scatterternary": [
           {
            "marker": {
             "colorbar": {
              "outlinewidth": 0,
              "ticks": ""
             }
            },
            "type": "scatterternary"
           }
          ],
          "surface": [
           {
            "colorbar": {
             "outlinewidth": 0,
             "ticks": ""
            },
            "colorscale": [
             [
              0,
              "#0d0887"
             ],
             [
              0.1111111111111111,
              "#46039f"
             ],
             [
              0.2222222222222222,
              "#7201a8"
             ],
             [
              0.3333333333333333,
              "#9c179e"
             ],
             [
              0.4444444444444444,
              "#bd3786"
             ],
             [
              0.5555555555555556,
              "#d8576b"
             ],
             [
              0.6666666666666666,
              "#ed7953"
             ],
             [
              0.7777777777777778,
              "#fb9f3a"
             ],
             [
              0.8888888888888888,
              "#fdca26"
             ],
             [
              1,
              "#f0f921"
             ]
            ],
            "type": "surface"
           }
          ],
          "table": [
           {
            "cells": {
             "fill": {
              "color": "#EBF0F8"
             },
             "line": {
              "color": "white"
             }
            },
            "header": {
             "fill": {
              "color": "#C8D4E3"
             },
             "line": {
              "color": "white"
             }
            },
            "type": "table"
           }
          ]
         },
         "layout": {
          "annotationdefaults": {
           "arrowcolor": "#2a3f5f",
           "arrowhead": 0,
           "arrowwidth": 1
          },
          "autotypenumbers": "strict",
          "coloraxis": {
           "colorbar": {
            "outlinewidth": 0,
            "ticks": ""
           }
          },
          "colorscale": {
           "diverging": [
            [
             0,
             "#8e0152"
            ],
            [
             0.1,
             "#c51b7d"
            ],
            [
             0.2,
             "#de77ae"
            ],
            [
             0.3,
             "#f1b6da"
            ],
            [
             0.4,
             "#fde0ef"
            ],
            [
             0.5,
             "#f7f7f7"
            ],
            [
             0.6,
             "#e6f5d0"
            ],
            [
             0.7,
             "#b8e186"
            ],
            [
             0.8,
             "#7fbc41"
            ],
            [
             0.9,
             "#4d9221"
            ],
            [
             1,
             "#276419"
            ]
           ],
           "sequential": [
            [
             0,
             "#0d0887"
            ],
            [
             0.1111111111111111,
             "#46039f"
            ],
            [
             0.2222222222222222,
             "#7201a8"
            ],
            [
             0.3333333333333333,
             "#9c179e"
            ],
            [
             0.4444444444444444,
             "#bd3786"
            ],
            [
             0.5555555555555556,
             "#d8576b"
            ],
            [
             0.6666666666666666,
             "#ed7953"
            ],
            [
             0.7777777777777778,
             "#fb9f3a"
            ],
            [
             0.8888888888888888,
             "#fdca26"
            ],
            [
             1,
             "#f0f921"
            ]
           ],
           "sequentialminus": [
            [
             0,
             "#0d0887"
            ],
            [
             0.1111111111111111,
             "#46039f"
            ],
            [
             0.2222222222222222,
             "#7201a8"
            ],
            [
             0.3333333333333333,
             "#9c179e"
            ],
            [
             0.4444444444444444,
             "#bd3786"
            ],
            [
             0.5555555555555556,
             "#d8576b"
            ],
            [
             0.6666666666666666,
             "#ed7953"
            ],
            [
             0.7777777777777778,
             "#fb9f3a"
            ],
            [
             0.8888888888888888,
             "#fdca26"
            ],
            [
             1,
             "#f0f921"
            ]
           ]
          },
          "colorway": [
           "#636efa",
           "#EF553B",
           "#00cc96",
           "#ab63fa",
           "#FFA15A",
           "#19d3f3",
           "#FF6692",
           "#B6E880",
           "#FF97FF",
           "#FECB52"
          ],
          "font": {
           "color": "#2a3f5f"
          },
          "geo": {
           "bgcolor": "white",
           "lakecolor": "white",
           "landcolor": "#E5ECF6",
           "showlakes": true,
           "showland": true,
           "subunitcolor": "white"
          },
          "hoverlabel": {
           "align": "left"
          },
          "hovermode": "closest",
          "mapbox": {
           "style": "light"
          },
          "paper_bgcolor": "white",
          "plot_bgcolor": "#E5ECF6",
          "polar": {
           "angularaxis": {
            "gridcolor": "white",
            "linecolor": "white",
            "ticks": ""
           },
           "bgcolor": "#E5ECF6",
           "radialaxis": {
            "gridcolor": "white",
            "linecolor": "white",
            "ticks": ""
           }
          },
          "scene": {
           "xaxis": {
            "backgroundcolor": "#E5ECF6",
            "gridcolor": "white",
            "gridwidth": 2,
            "linecolor": "white",
            "showbackground": true,
            "ticks": "",
            "zerolinecolor": "white"
           },
           "yaxis": {
            "backgroundcolor": "#E5ECF6",
            "gridcolor": "white",
            "gridwidth": 2,
            "linecolor": "white",
            "showbackground": true,
            "ticks": "",
            "zerolinecolor": "white"
           },
           "zaxis": {
            "backgroundcolor": "#E5ECF6",
            "gridcolor": "white",
            "gridwidth": 2,
            "linecolor": "white",
            "showbackground": true,
            "ticks": "",
            "zerolinecolor": "white"
           }
          },
          "shapedefaults": {
           "line": {
            "color": "#2a3f5f"
           }
          },
          "ternary": {
           "aaxis": {
            "gridcolor": "white",
            "linecolor": "white",
            "ticks": ""
           },
           "baxis": {
            "gridcolor": "white",
            "linecolor": "white",
            "ticks": ""
           },
           "bgcolor": "#E5ECF6",
           "caxis": {
            "gridcolor": "white",
            "linecolor": "white",
            "ticks": ""
           }
          },
          "title": {
           "x": 0.05
          },
          "xaxis": {
           "automargin": true,
           "gridcolor": "white",
           "linecolor": "white",
           "ticks": "",
           "title": {
            "standoff": 15
           },
           "zerolinecolor": "white",
           "zerolinewidth": 2
          },
          "yaxis": {
           "automargin": true,
           "gridcolor": "white",
           "linecolor": "white",
           "ticks": "",
           "title": {
            "standoff": 15
           },
           "zerolinecolor": "white",
           "zerolinewidth": 2
          }
         }
        },
        "title": {
         "text": "Turn Speed Analysis"
        },
        "xaxis": {
         "anchor": "y",
         "domain": [
          0,
          0.45
         ]
        },
        "xaxis2": {
         "anchor": "y2",
         "domain": [
          0.55,
          1
         ]
        },
        "yaxis": {
         "anchor": "x",
         "domain": [
          0,
          1
         ]
        },
        "yaxis2": {
         "anchor": "x2",
         "domain": [
          0,
          1
         ]
        }
       }
      }
     },
     "metadata": {},
     "output_type": "display_data"
    },
    {
     "name": "stdout",
     "output_type": "stream",
     "text": [
      "Turn speed reduction at max forward: 33.7\n",
      "Expected reduction to 1/3: 33.3\n"
     ]
    }
   ],
   "source": [
    "# Analysis: Show turn speed reduction at high forward speeds\n",
    "# Filter data for center X position (no turn input)\n",
    "center_x = 512  # Approximate center\n",
    "center_data = df[df['x'] == center_x].copy()\n",
    "\n",
    "# Filter data for maximum forward speed\n",
    "max_y = df['y'].max()\n",
    "max_forward_data = df[df['y'] == max_y].copy()\n",
    "\n",
    "fig_analysis = make_subplots(\n",
    "    rows=1, cols=2,\n",
    "    subplot_titles=('Turn Speed vs Forward Speed', 'Turn Speed at Max Forward')\n",
    ")\n",
    "\n",
    "# Plot 1: Turn speed vs forward speed relationship\n",
    "fig_analysis.add_trace(\n",
    "    go.Scatter(x=center_data['forward_speed'], y=center_data['turn_speed'], \n",
    "               mode='markers', name='No Turn Input'),\n",
    "    row=1, col=1\n",
    ")\n",
    "\n",
    "# Plot 2: Turn speed across X positions at max forward\n",
    "fig_analysis.add_trace(\n",
    "    go.Scatter(x=max_forward_data['x'], y=max_forward_data['turn_speed'], \n",
    "               mode='lines+markers', name='Max Forward Speed'),\n",
    "    row=1, col=2\n",
    ")\n",
    "\n",
    "fig_analysis.update_layout(\n",
    "    title='Turn Speed Analysis',\n",
    "    height=400\n",
    ")\n",
    "\n",
    "fig_analysis.show()\n",
    "\n",
    "print(f\"Turn speed reduction at max forward: {max_forward_data['turn_speed'].abs().max():.1f}\")\n",
    "print(f\"Expected reduction to 1/3: {100/3:.1f}\")"
   ]
  }
 ],
 "metadata": {
  "kernelspec": {
   "display_name": "pxt-cutebot",
   "language": "python",
   "name": "python3"
  },
  "language_info": {
   "codemirror_mode": {
    "name": "ipython",
    "version": 3
   },
   "file_extension": ".py",
   "mimetype": "text/x-python",
   "name": "python",
   "nbconvert_exporter": "python",
   "pygments_lexer": "ipython3",
   "version": "3.13.6"
  }
 },
 "nbformat": 4,
 "nbformat_minor": 5
}
